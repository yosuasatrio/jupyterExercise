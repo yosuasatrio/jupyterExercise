{
 "cells": [
  {
   "cell_type": "markdown",
   "metadata": {},
   "source": [
    "<center>\n",
    "    <img src=\"https://cf-courses-data.s3.us.cloud-object-storage.appdomain.cloud/IBMDeveloperSkillsNetwork-DS0105EN-SkillsNetwork/labs/Module2/images/SN_web_lightmode.png\" width=\"300\" alt=\"cognitiveclass.ai logo\">\n",
    "</center>\n"
   ]
  },
  {
   "cell_type": "markdown",
   "metadata": {},
   "source": [
    "#### Add your code below following the instructions given in the course\n"
   ]
  },
  {
   "cell_type": "markdown",
   "metadata": {},
   "source": [
    "Markdown Cell"
   ]
  },
  {
   "cell_type": "markdown",
   "metadata": {},
   "source": [
    "Welcome to this example Jupyter Notebook! This notebook demonstrates various features of Markdown cells and how they can be used for documentation and explanatory text.\n",
    "\n",
    "Markdown cells are useful for:\n",
    "- Writing formatted text\n",
    "- Creating headers and subheaders\n",
    "- Making lists (like this one)\n",
    "- Embedding links and images\n",
    "- and more!\n",
    "\n",
    "Feel free to edit and experiment with this notebook to learn more about Markdown and its capabilities."
   ]
  },
  {
   "cell_type": "markdown",
   "metadata": {},
   "source": [
    "Here are some popular languages used in data science:\n",
    "\n",
    "1. **Python**: Python is widely used for data analysis, machine learning, and scientific computing due to its simplicity and rich ecosystem of libraries like NumPy, Pandas, and scikit-learn.\n",
    "\n",
    "2. **R**: R is another language popular among statisticians and data miners for its strong statistical capabilities and visualization libraries like ggplot2.\n",
    "\n",
    "3. **SQL (Structured Query Language)**: SQL is essential for managing and querying relational databases, which are commonly used to store structured data in data science projects.\n",
    "\n",
    "4. **Julia**: Julia is gaining popularity for its high-performance computing capabilities, making it suitable for numerical and scientific computing tasks.\n",
    "\n",
    "5. **Java**: Java is used in big data technologies like Apache Hadoop and Spark, which are crucial for handling large-scale data processing tasks.\n",
    "\n",
    "6. **Scala**: Scala is often used alongside Apache Spark for distributed data processing and analytics due to its compatibility with JVM (Java Virtual Machine).\n",
    "\n",
    "These languages cater to different aspects of data science, from data manipulation and analysis to machine learning model development and deployment."
   ]
  },
  {
   "cell_type": "markdown",
   "metadata": {},
   "source": [
    "# Data Science Tools\n",
    "\n",
    "| Tool         | Description                                                                 |\n",
    "|--------------|-----------------------------------------------------------------------------|\n",
    "| **Python**   | A versatile programming language with libraries like NumPy, Pandas, and scikit-learn for data manipulation, analysis, and machine learning. |\n",
    "| **R**        | Statistical computing language with packages like ggplot2 and dplyr for data visualization and manipulation. |\n",
    "| **SQL**      | Language used for managing and querying relational databases, essential for data storage and retrieval. |\n",
    "| **Julia**    | High-performance language for numerical and scientific computing tasks, gaining popularity in data science. |\n",
    "| **TensorFlow** | Open-source machine learning framework developed by Google, known for its flexibility and scalability in building neural network models. |\n",
    "| **PyTorch**  | Deep learning framework that emphasizes flexibility and speed, widely used for research and production in artificial intelligence. |\n",
    "| **Apache Spark** | Distributed computing system for big data processing, with APIs in Scala, Python, and Java, suitable for large-scale data analytics. |\n",
    "| **Tableau**  | Data visualization tool that allows users to create interactive and shareable dashboards, suitable for exploring and presenting insights. |\n",
    "| **Jupyter**  | Interactive notebook environment for data science and scientific computing, supporting various languages like Python, R, and Julia. |\n",
    "| **Docker**   | Platform for developing, shipping, and running applications in containers, providing consistency across different computing environments. |\n",
    "| **Kubernetes** | Container orchestration tool for automating the deployment, scaling, and management of containerized applications, useful in deploying data science pipelines. |\n"
   ]
  },
  {
   "cell_type": "markdown",
   "metadata": {},
   "source": [
    "# Arithmetic Expression Examples\n",
    "\n",
    "Arithmetic expressions are fundamental in programming and data analysis for performing mathematical calculations. Below are some examples of basic arithmetic operations:\n",
    "\n",
    "1. **Addition (+)**: Adds two numbers together.\n",
    "   ```python\n",
    "   5 + 3  # Result: 8\n"
   ]
  },
  {
   "cell_type": "code",
   "execution_count": 1,
   "metadata": {
    "tags": []
   },
   "outputs": [
    {
     "name": "stdout",
     "output_type": "stream",
     "text": [
      "Multiplication result: 15\n",
      "Addition result: 8\n"
     ]
    }
   ],
   "source": [
    "# Multiply two numbers\n",
    "result_multiply = 5 * 3\n",
    "print(f\"Multiplication result: {result_multiply}\")\n",
    "\n",
    "# Add two numbers\n",
    "result_add = 5 + 3\n",
    "print(f\"Addition result: {result_add}\")\n"
   ]
  },
  {
   "cell_type": "code",
   "execution_count": 2,
   "metadata": {
    "tags": []
   },
   "outputs": [
    {
     "name": "stdout",
     "output_type": "stream",
     "text": [
      "150 minutes is equal to 2.5 hours\n"
     ]
    }
   ],
   "source": [
    "# Define the number of minutes\n",
    "minutes = 150\n",
    "\n",
    "# Convert minutes to hours\n",
    "hours = minutes / 60\n",
    "\n",
    "# Print the result\n",
    "print(f\"{minutes} minutes is equal to {hours} hours\")\n"
   ]
  },
  {
   "cell_type": "markdown",
   "metadata": {},
   "source": [
    "# Objectives\n",
    "\n",
    "In this exercise, we aim to achieve the following objectives:\n",
    "\n",
    "1. **Understand Markdown Formatting**: Learn how to use Markdown to format text, create headers, lists, and tables.\n",
    "   \n",
    "2. **Practice Creating Markdown Cells**: Practice creating Markdown cells in a Jupyter Notebook to document code, explain concepts, and present information.\n",
    "\n",
    "3. **Demonstrate Basic Arithmetic Operations**: Implement basic arithmetic operations in Python code cells, such as addition, multiplication, and division.\n",
    "\n",
    "4. **Perform Simple Conversions**: Convert units, such as minutes to hours, using Python code cells to demonstrate numerical calculations.\n",
    "\n",
    "5. **Enhance Documentation Skills**: Improve skills in documenting code and concepts using a combination of Markdown for text formatting and Python for computational tasks.\n",
    "\n",
    "Feel free to explore and experiment with the examples provided to gain proficiency in both Markdown and basic Python programming.\n"
   ]
  },
  {
   "cell_type": "markdown",
   "metadata": {},
   "source": [
    "# Author\n",
    "\n",
    "**Author:** [Yosua Satrio Wicaksono]\n"
   ]
  },
  {
   "cell_type": "code",
   "execution_count": null,
   "metadata": {},
   "outputs": [],
   "source": []
  }
 ],
 "metadata": {
  "kernelspec": {
   "display_name": "Python",
   "language": "python",
   "name": "conda-env-python-py"
  },
  "language_info": {
   "codemirror_mode": {
    "name": "ipython",
    "version": 3
   },
   "file_extension": ".py",
   "mimetype": "text/x-python",
   "name": "python",
   "nbconvert_exporter": "python",
   "pygments_lexer": "ipython3",
   "version": "3.7.12"
  }
 },
 "nbformat": 4,
 "nbformat_minor": 4
}
